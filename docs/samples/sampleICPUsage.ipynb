{
 "cells": [
  {
   "cell_type": "code",
   "execution_count": 2,
   "metadata": {},
   "outputs": [],
   "source": [
    "import numpy as np\n",
    "import pcl\n",
    "from pcl import IterativeClosestPoint"
   ]
  },
  {
   "cell_type": "code",
   "execution_count": 4,
   "metadata": {},
   "outputs": [],
   "source": [
    "def computeICPDelta(source, target, iters=10) :\n",
    "    global currMap\n",
    "\n",
    "    source_array = source.to_array()\n",
    "    target_array = target.to_array()\n",
    "    \n",
    "    # Take all points in a radius of +/- 20 mts and height < 0.1 mt ..\n",
    "    source_min_array = source_array[np.where((abs(source_array[:,0]) < 20) & \n",
    "                                    (abs(source_array[:,1]) < 20) & (source_array[:,2] >= 0.1))]\n",
    "    target_min_array = target_array[np.where((abs(target_array[:,0]) < 20) & \n",
    "                                            (abs(target_array[:,1]) < 20) & (target_array[:,2] >= 0.1))]\n",
    "\n",
    "    source_min_cloud = pcl.PointCloud(source_min_array)\n",
    "    target_min_cloud = pcl.PointCloud(target_min_array)\n",
    "\n",
    "    icp = source_min_cloud.make_IterativeClosestPoint()\n",
    "    #icp.setTransformationEpsilon(0.05)\n",
    "    if ((source_min_cloud.size > 0) & (target_min_cloud.size > 0)) :\n",
    "        converged, transf, estimate, fitness = icp.icp(source_min_cloud, target_min_cloud, max_iter=iters)\n",
    "        print(converged, estimate, fitness)\n",
    "        print(icp)\n",
    "        if (converged) :\n",
    "            if (fitness < 0.2) :\n",
    "                print(\"Fitness quality ok\")\n",
    "            print(transf)\n",
    "        else :\n",
    "            print(\"ICP fails to converge\")\n",
    "    else :\n",
    "        print(\"No points for ICP\")\n",
    "        transf = None\n",
    "\n",
    "    return transf"
   ]
  },
  {
   "cell_type": "code",
   "execution_count": 5,
   "metadata": {},
   "outputs": [],
   "source": [
    "p1 = pcl.load('/home/prasad/nloptimize/2000.pcd')\n",
    "p2 = pcl.load('/home/prasad/nloptimize/2003.pcd')"
   ]
  },
  {
   "cell_type": "code",
   "execution_count": 6,
   "metadata": {},
   "outputs": [
    {
     "name": "stdout",
     "output_type": "stream",
     "text": [
      "True <PointCloud of 3881 points> 0.1363196845495376\n",
      "<pcl._pcl.IterativeClosestPoint object at 0x7f5ee4066e70>\n",
      "Fitness quality ok\n",
      "[[  9.99987543e-01   5.19099180e-03  -2.32566708e-05   1.54614784e-02]\n",
      " [ -5.19119529e-03   9.99980688e-01   3.77186877e-03  -8.90814900e-01]\n",
      " [  4.28364801e-05  -3.77168832e-03   9.99994040e-01   2.39746203e-03]\n",
      " [  0.00000000e+00   0.00000000e+00   0.00000000e+00   1.00000000e+00]]\n"
     ]
    },
    {
     "name": "stderr",
     "output_type": "stream",
     "text": [
      "/home/prasad/.local/lib/python3.5/site-packages/ipykernel_launcher.py:19: DeprecationWarning: Non length-one string passed in for the array ordering. Please pass in 'C', 'F', 'A', or 'K' instead\n"
     ]
    },
    {
     "data": {
      "text/plain": [
       "array([[  9.99987543e-01,   5.19099180e-03,  -2.32566708e-05,\n",
       "          1.54614784e-02],\n",
       "       [ -5.19119529e-03,   9.99980688e-01,   3.77186877e-03,\n",
       "         -8.90814900e-01],\n",
       "       [  4.28364801e-05,  -3.77168832e-03,   9.99994040e-01,\n",
       "          2.39746203e-03],\n",
       "       [  0.00000000e+00,   0.00000000e+00,   0.00000000e+00,\n",
       "          1.00000000e+00]], dtype=float32)"
      ]
     },
     "execution_count": 6,
     "metadata": {},
     "output_type": "execute_result"
    }
   ],
   "source": [
    "computeICPDelta(p1, p2)"
   ]
  },
  {
   "cell_type": "code",
   "execution_count": null,
   "metadata": {},
   "outputs": [],
   "source": []
  }
 ],
 "metadata": {
  "kernelspec": {
   "display_name": "Python 3",
   "language": "python",
   "name": "python3"
  },
  "language_info": {
   "codemirror_mode": {
    "name": "ipython",
    "version": 3
   },
   "file_extension": ".py",
   "mimetype": "text/x-python",
   "name": "python",
   "nbconvert_exporter": "python",
   "pygments_lexer": "ipython3",
   "version": "3.5.2"
  }
 },
 "nbformat": 4,
 "nbformat_minor": 2
}
