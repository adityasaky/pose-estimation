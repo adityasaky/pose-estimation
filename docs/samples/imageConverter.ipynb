{
 "cells": [
  {
   "cell_type": "code",
   "execution_count": 1,
   "metadata": {},
   "outputs": [],
   "source": [
    "import numpy as np\n",
    "import cv2"
   ]
  },
  {
   "cell_type": "code",
   "execution_count": 2,
   "metadata": {},
   "outputs": [
    {
     "name": "stdout",
     "output_type": "stream",
     "text": [
      "(160, 100)\n",
      "(160, 100)\n",
      "(16, 20, 50)\n",
      "(16, 20, 50)\n"
     ]
    },
    {
     "data": {
      "text/plain": [
       "(16, 20, 100)"
      ]
     },
     "execution_count": 2,
     "metadata": {},
     "output_type": "execute_result"
    }
   ],
   "source": [
    "# start with an image 160 X 120\n",
    "img1 = np.ndarray(shape=(160,100), dtype=int)\n",
    "img2 = np.ndarray(shape=(160,100), dtype=int)\n",
    "print(img1.shape)\n",
    "print(img2.shape)\n",
    "# Reshape them to 15X65X20\n",
    "img1_nshp = np.reshape(img1, (16, 20, 50))\n",
    "img2_nshp = np.reshape(img2, (16, 20, 50))\n",
    "print(img1_nshp.shape)\n",
    "print(img2_nshp.shape)\n",
    "# Concatenate images ..\n",
    "img_concat = np.concatenate((img1_nshp, img2_nshp), axis=2)\n",
    "img_concat.shape"
   ]
  },
  {
   "cell_type": "code",
   "execution_count": null,
   "metadata": {},
   "outputs": [],
   "source": [
    "# Open a PCD file and convert (rescale) to 160X120 ..\n",
    "height = 160 \n",
    "width = 120 \n",
    "\n",
    "heightMeters = 80\n",
    "widthMeters = 60\n",
    "\n",
    "# X axis max is heightMeters metres on either side\n",
    "# so 120 pixels converts to 120 on +x and 120 -x\n",
    "def scalex(x) :\n",
    "    global height, width\n",
    "    \n",
    "    xs = int(width * (widthMeters * 0.5 + x) / widthMeters)\n",
    "    \n",
    "    return xs\n",
    "\n",
    "# Y axis max is 80 metres \n",
    "# so 160 => 80 mtr\n",
    "# use decimeter to preserve first decimal for accuracy\n",
    "def scaley(y) :\n",
    "    #ys = int(height * y  / heightMeters )\n",
    "    ys = int(height * (heightMeters * 0.5 + y) / heightMeters)\n",
    "    \n",
    "    return height -1 - ys\n",
    "    #return ys"
   ]
  },
  {
   "cell_type": "code",
   "execution_count": null,
   "metadata": {},
   "outputs": [],
   "source": [
    "# Convert a PCD file to an img file (height X width) and 80 X 60 mts\n",
    "# all points outside this range marked out of image\n",
    "def XYToImage(x, y, z, avgHeight) :\n",
    "    global height, width\n",
    "    \n",
    "    img = np.zeros((height, width, 3), np.uint8)\n",
    "    for i in range(len(x)) :\n",
    "        if (abs(z[i]) >= avgHeight + 0.5) :\n",
    "            if ((abs(x[i]) <= widthMeters * 0.5) & (abs(y[i]) <= heightMeters * 0.5)) :\n",
    "                xs = scalex(x[i])\n",
    "                ys = scaley(y[i])\n",
    "                img[ys, xs,  0] = 255\n",
    "                img[ys, xs,  1] = 255\n",
    "                img[ys, xs, 2] = 255\n",
    "        \n",
    "    return img"
   ]
  },
  {
   "cell_type": "code",
   "execution_count": null,
   "metadata": {},
   "outputs": [],
   "source": [
    "file = '/home/prasad/lidar_m8_data/run_indoor_set2/non-ground/181.pcd'\n",
    "cloud = pcl.load(file)\n",
    "ptAr = cloud.to_array()\n",
    "x = ptAr[:, 0]\n",
    "y = ptAr[:, 1]        \n",
    "z = ptAr[:, 2]\n",
    "avgHeight = np.mean(z)\n",
    "img = XYToImage(x, y, z, avgHeight)\n",
    "jpgFile = file.split('.pcd')[0] + \".jpg\"\n",
    "print(jpgFile, jpgFile)\n",
    "cv2.imwrite(jpgFile, img)"
   ]
  },
  {
   "cell_type": "code",
   "execution_count": null,
   "metadata": {},
   "outputs": [],
   "source": [
    "# reads all pcds in a dir and converts to jpg\n",
    "# writes out the jpg file as 1.pcd.jpg\n",
    "dir = '/point/this/to/your/pcd/directory/'\n",
    "fileList = glob.glob(dir + '*.pcd')\n",
    "for file in fileList :\n",
    "    cloud = pcl.load(file)\n",
    "    ptAr = cloud.to_array()\n",
    "    x = ptAr[:, 0]\n",
    "    y = ptAr[:, 1]        \n",
    "    z = ptAr[:, 2]\n",
    "    avgHeight = np.mean(z)\n",
    "    img = XYToImage(x, y, z, avgHeight)\n",
    "    jpgFile = file.split('.pcd')[0] + \".jpg\"\n",
    "    cv2.imwrite(jpgFile, img)"
   ]
  }
 ],
 "metadata": {
  "kernelspec": {
   "display_name": "Python 3",
   "language": "python",
   "name": "python3"
  },
  "language_info": {
   "codemirror_mode": {
    "name": "ipython",
    "version": 3
   },
   "file_extension": ".py",
   "mimetype": "text/x-python",
   "name": "python",
   "nbconvert_exporter": "python",
   "pygments_lexer": "ipython3",
   "version": "3.5.2"
  }
 },
 "nbformat": 4,
 "nbformat_minor": 2
}
