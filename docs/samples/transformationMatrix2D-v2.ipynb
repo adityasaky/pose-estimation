{
 "cells": [
  {
   "cell_type": "code",
   "execution_count": 71,
   "metadata": {},
   "outputs": [],
   "source": [
    "import numpy as np\n",
    "import math"
   ]
  },
  {
   "cell_type": "code",
   "execution_count": 72,
   "metadata": {},
   "outputs": [
    {
     "name": "stdout",
     "output_type": "stream",
     "text": [
      "[[ 0.  0.  1.  1.]\n",
      " [ 0.  1.  0.  1.]\n",
      " [ 1.  1.  1.  1.]]\n"
     ]
    }
   ],
   "source": [
    "src =  np.array([[0.0, 0.0, 1.0], [0.0, 1.0, 1.0], [1.0, 0.0,1.0], [1.0, 1.0, 1.0]])\n",
    "src = src.T\n",
    "print(src)"
   ]
  },
  {
   "cell_type": "code",
   "execution_count": 73,
   "metadata": {},
   "outputs": [
    {
     "name": "stdout",
     "output_type": "stream",
     "text": [
      "TM : \n",
      "[[ 0.707 -0.707  2.5  ]\n",
      " [ 0.707  0.707  1.   ]\n",
      " [ 0.     0.     1.   ]]\n",
      "SRC : \n",
      "[[ 0.  0.  1.  1.]\n",
      " [ 0.  1.  0.  1.]\n",
      " [ 1.  1.  1.  1.]]\n",
      "TGT : \n",
      "[[ 2.5    1.793  3.207  2.5  ]\n",
      " [ 1.     1.707  1.707  2.414]\n",
      " [ 1.     1.     1.     1.   ]]\n"
     ]
    }
   ],
   "source": [
    "# Create a transformation matrix for 45 deg rotation and translation of (2,5, 1.5)\n",
    "tm = np.array([[0.707, -0.707, 2.5], [0.707, 0.707, 1.0], [0, 0, 1]])\n",
    "print(\"TM : \")\n",
    "print(tm)\n",
    "tgt = np.dot(tm, src)\n",
    "print(\"SRC : \")\n",
    "print(src)\n",
    "print(\"TGT : \")\n",
    "print(tgt)"
   ]
  },
  {
   "cell_type": "code",
   "execution_count": 74,
   "metadata": {},
   "outputs": [
    {
     "name": "stdout",
     "output_type": "stream",
     "text": [
      "SRC NH : \n",
      "[[ 0.  0.  1.  1.]\n",
      " [ 0.  1.  0.  1.]]\n",
      "TGT_NH : \n",
      "[[ 2.5    1.793  3.207  2.5  ]\n",
      " [ 1.     1.707  1.707  2.414]]\n",
      "H4 : \n",
      "[[ 2.5    1.793  2.207  1.5  ]\n",
      " [ 1.     0.707  1.707  1.414]]\n"
     ]
    }
   ],
   "source": [
    "# Get the non-honogenous forms for the src and tgt and\n",
    "# compute the H4 matrix\n",
    "src_nh = src[0:2,]\n",
    "tgt_nh = tgt[0:2,]\n",
    "print(\"SRC NH : \")\n",
    "print(src_nh)\n",
    "print(\"TGT_NH : \")\n",
    "print(tgt_nh)\n",
    "#h4 = computeH4In2D(src_nh, tgt_nh)\n",
    "h4 = tgt_nh - src_nh\n",
    "print(\"H4 : \")\n",
    "print(h4)"
   ]
  },
  {
   "cell_type": "code",
   "execution_count": 75,
   "metadata": {},
   "outputs": [],
   "source": [
    "def computeHomographyFromH4P(H4p, img_dims):\n",
    "    print(H4p.shape)\n",
    "    ps = np.array([[0,0],[0,img_dims[1]], [img_dims[0],0],[img_dims[0],img_dims[1]]])\n",
    "    \n",
    "    print(ps.shape)\n",
    "    print(\"PS : \",ps)\n",
    "    qs = ps + H4p\n",
    "    print(\"QS : \", qs)\n",
    "\n",
    "    P = np.zeros((9,9))\n",
    "    for i in range(4):\n",
    "\n",
    "        P[2*i]   = np.array([-ps[i,0], -ps[i,1], -1, 0, 0, 0, ps[i,0]*qs[i,0], ps[i,1]*qs[i,0], qs[i,0]])\n",
    "        P[2*i+1] = np.array([0, 0, 0, -ps[i,0], -ps[i,1], -1, ps[i,0]*qs[i,1], ps[i,1]*qs[i,1], qs[i,1]])\n",
    "\n",
    "    P[-1,-1] = 1\n",
    "\n",
    "    b = np.zeros((9))\n",
    "    b[-1] = 1\n",
    "\n",
    "    H = np.linalg.solve(P,b)\n",
    "\n",
    "    return H"
   ]
  },
  {
   "cell_type": "code",
   "execution_count": 76,
   "metadata": {},
   "outputs": [],
   "source": [
    "#tm = np.array([[0.707, -0.707, 2.5], [0.707, 0.707, 1.0], [0, 0, 1]])\n",
    "#print(tm)\n",
    "#src =  np.array([[1.0, 1.0, 1.0], [1.0, 2.0, 1.0], [2.0, 1.0,1.0], [2.0, 2.0, 1.0]])\n",
    "#src = src - np.array([1,1,0])"
   ]
  },
  {
   "cell_type": "code",
   "execution_count": 77,
   "metadata": {},
   "outputs": [
    {
     "name": "stdout",
     "output_type": "stream",
     "text": [
      "(4, 2)\n",
      "(4, 2)\n",
      "PS :  [[0 0]\n",
      " [0 1]\n",
      " [1 0]\n",
      " [1 1]]\n",
      "QS :  [[ 2.5    1.   ]\n",
      " [ 1.793  1.707]\n",
      " [ 3.207  1.707]\n",
      " [ 2.5    2.414]]\n",
      "[ 0.707 -0.707  2.5    0.707  0.707  1.    -0.     0.     1.   ] (9,)\n"
     ]
    }
   ],
   "source": [
    "h4 = h4.T\n",
    "h = computeHomographyFromH4P(h4, [1,1])\n",
    "print(h, h.shape)"
   ]
  },
  {
   "cell_type": "code",
   "execution_count": 79,
   "metadata": {},
   "outputs": [
    {
     "name": "stdout",
     "output_type": "stream",
     "text": [
      "[[ 0.707 -0.707  2.5  ]\n",
      " [ 0.707  0.707  1.   ]\n",
      " [-0.     0.     1.   ]]\n",
      "[[ 0.707 -0.707  2.5  ]\n",
      " [ 0.707  0.707  1.   ]\n",
      " [ 0.     0.     1.   ]]\n"
     ]
    }
   ],
   "source": [
    "h = h.reshape((3,3))\n",
    "print(h)\n",
    "print(tm)"
   ]
  },
  {
   "cell_type": "code",
   "execution_count": 84,
   "metadata": {},
   "outputs": [
    {
     "name": "stdout",
     "output_type": "stream",
     "text": [
      "SRC : \n",
      "[[  0.   0.   1.]\n",
      " [  0.  64.   1.]\n",
      " [ 64.   0.   1.]\n",
      " [ 64.  64.   1.]]\n",
      "TGT : \n",
      "[[  2.5   -42.748  47.748   2.5  ]\n",
      " [  1.     46.248  46.248  91.496]\n",
      " [  1.      1.      1.      1.   ]]\n"
     ]
    }
   ],
   "source": [
    "srclarge =  np.array([[0.0, 0.0, 1.0], [0.0, 64.0, 1.0], [64.0, 0.0,1.0], [64.0, 64.0, 1.0]])\n",
    "tgt = np.dot(tm, srclarge.T)\n",
    "print(\"SRC : \")\n",
    "print(srclarge)\n",
    "print(\"TGT : \")\n",
    "print(tgt)"
   ]
  },
  {
   "cell_type": "code",
   "execution_count": 87,
   "metadata": {},
   "outputs": [
    {
     "name": "stdout",
     "output_type": "stream",
     "text": [
      "SRC NH : \n",
      "[[  0.   0.  64.  64.]\n",
      " [  0.  64.   0.  64.]]\n",
      "TGT_NH : \n",
      "[[  2.5   -42.748  47.748   2.5  ]\n",
      " [  1.     46.248  46.248  91.496]]\n",
      "H4 : \n",
      "[[  2.5   -42.748 -16.252 -61.5  ]\n",
      " [  1.    -17.752  46.248  27.496]]\n"
     ]
    }
   ],
   "source": [
    "src_nh = srclarge.T[0:2,]\n",
    "tgt_nh = tgt[0:2,]\n",
    "print(\"SRC NH : \")\n",
    "print(src_nh)\n",
    "print(\"TGT_NH : \")\n",
    "print(tgt_nh)\n",
    "#h4 = computeH4In2D(src_nh, tgt_nh)\n",
    "h4 = tgt_nh - src_nh\n",
    "print(\"H4 : \")\n",
    "print(h4)"
   ]
  },
  {
   "cell_type": "code",
   "execution_count": 90,
   "metadata": {},
   "outputs": [
    {
     "name": "stdout",
     "output_type": "stream",
     "text": [
      "(2, 4)\n",
      "(4, 2)\n",
      "PS :  [[ 0  0]\n",
      " [ 0 64]\n",
      " [64  0]\n",
      " [64 64]]\n"
     ]
    },
    {
     "ename": "ValueError",
     "evalue": "operands could not be broadcast together with shapes (4,2) (2,4) ",
     "traceback": [
      "\u001b[0;31m---------------------------------------------------------------------------\u001b[0m",
      "\u001b[0;31mValueError\u001b[0m                                Traceback (most recent call last)",
      "\u001b[0;32m<ipython-input-90-1e913bb115c4>\u001b[0m in \u001b[0;36m<module>\u001b[0;34m()\u001b[0m\n\u001b[1;32m      1\u001b[0m \u001b[0mh4\u001b[0m \u001b[0;34m=\u001b[0m \u001b[0mh4\u001b[0m\u001b[0;34m.\u001b[0m\u001b[0mT\u001b[0m\u001b[0;34m\u001b[0m\u001b[0m\n\u001b[0;32m----> 2\u001b[0;31m \u001b[0mh\u001b[0m \u001b[0;34m=\u001b[0m \u001b[0mcomputeHomographyFromH4P\u001b[0m\u001b[0;34m(\u001b[0m\u001b[0mh4\u001b[0m\u001b[0;34m,\u001b[0m \u001b[0;34m[\u001b[0m\u001b[0;36m64\u001b[0m\u001b[0;34m,\u001b[0m\u001b[0;36m64\u001b[0m\u001b[0;34m]\u001b[0m\u001b[0;34m)\u001b[0m\u001b[0;34m\u001b[0m\u001b[0m\n\u001b[0m\u001b[1;32m      3\u001b[0m \u001b[0mprint\u001b[0m\u001b[0;34m(\u001b[0m\u001b[0mh\u001b[0m\u001b[0;34m,\u001b[0m \u001b[0mh\u001b[0m\u001b[0;34m.\u001b[0m\u001b[0mshape\u001b[0m\u001b[0;34m)\u001b[0m\u001b[0;34m\u001b[0m\u001b[0m\n",
      "\u001b[0;32m<ipython-input-75-215372dce2c1>\u001b[0m in \u001b[0;36mcomputeHomographyFromH4P\u001b[0;34m(H4p, img_dims)\u001b[0m\n\u001b[1;32m      5\u001b[0m     \u001b[0mprint\u001b[0m\u001b[0;34m(\u001b[0m\u001b[0mps\u001b[0m\u001b[0;34m.\u001b[0m\u001b[0mshape\u001b[0m\u001b[0;34m)\u001b[0m\u001b[0;34m\u001b[0m\u001b[0m\n\u001b[1;32m      6\u001b[0m     \u001b[0mprint\u001b[0m\u001b[0;34m(\u001b[0m\u001b[0;34m\"PS : \"\u001b[0m\u001b[0;34m,\u001b[0m\u001b[0mps\u001b[0m\u001b[0;34m)\u001b[0m\u001b[0;34m\u001b[0m\u001b[0m\n\u001b[0;32m----> 7\u001b[0;31m     \u001b[0mqs\u001b[0m \u001b[0;34m=\u001b[0m \u001b[0mps\u001b[0m \u001b[0;34m+\u001b[0m \u001b[0mH4p\u001b[0m\u001b[0;34m\u001b[0m\u001b[0m\n\u001b[0m\u001b[1;32m      8\u001b[0m     \u001b[0mprint\u001b[0m\u001b[0;34m(\u001b[0m\u001b[0;34m\"QS : \"\u001b[0m\u001b[0;34m,\u001b[0m \u001b[0mqs\u001b[0m\u001b[0;34m)\u001b[0m\u001b[0;34m\u001b[0m\u001b[0m\n\u001b[1;32m      9\u001b[0m \u001b[0;34m\u001b[0m\u001b[0m\n",
      "\u001b[0;31mValueError\u001b[0m: operands could not be broadcast together with shapes (4,2) (2,4) "
     ],
     "output_type": "error"
    }
   ],
   "source": [
    "h4 = h4.T\n",
    "h = computeHomographyFromH4P(h4, [64,64])\n",
    "print(h, h.shape)"
   ]
  },
  {
   "cell_type": "code",
   "execution_count": 91,
   "metadata": {},
   "outputs": [
    {
     "name": "stdout",
     "output_type": "stream",
     "text": [
      "[[-17.752 -45.248   2.5  ]\n",
      " [ 45.248 -17.752   1.   ]\n",
      " [ -0.      0.      1.   ]]\n",
      "[[ 0.707 -0.707  2.5  ]\n",
      " [ 0.707  0.707  1.   ]\n",
      " [ 0.     0.     1.   ]]\n"
     ]
    }
   ],
   "source": [
    "h = h.reshape((3,3))\n",
    "print(h)\n",
    "print(tm)"
   ]
  },
  {
   "cell_type": "code",
   "execution_count": null,
   "metadata": {},
   "outputs": [],
   "source": []
  }
 ],
 "metadata": {
  "kernelspec": {
   "display_name": "Python 3",
   "language": "python",
   "name": "python3"
  },
  "language_info": {
   "codemirror_mode": {
    "name": "ipython",
    "version": 3
   },
   "file_extension": ".py",
   "mimetype": "text/x-python",
   "name": "python",
   "nbconvert_exporter": "python",
   "pygments_lexer": "ipython3",
   "version": "3.5.2"
  }
 },
 "nbformat": 4,
 "nbformat_minor": 2
}
